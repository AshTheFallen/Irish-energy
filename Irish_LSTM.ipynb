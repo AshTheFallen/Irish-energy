{
  "nbformat": 4,
  "nbformat_minor": 0,
  "metadata": {
    "colab": {
      "name": "Irish-LSTM.ipynb",
      "provenance": [],
      "authorship_tag": "ABX9TyPsiYFi6cLM/G/MpcTY95j2",
      "include_colab_link": true
    },
    "kernelspec": {
      "name": "python3",
      "display_name": "Python 3"
    },
    "language_info": {
      "name": "python"
    },
    "accelerator": "GPU"
  },
  "cells": [
    {
      "cell_type": "markdown",
      "metadata": {
        "id": "view-in-github",
        "colab_type": "text"
      },
      "source": [
        "<a href=\"https://colab.research.google.com/github/AshTheFallen/Irish-energy/blob/main/Irish_LSTM.ipynb\" target=\"_parent\"><img src=\"https://colab.research.google.com/assets/colab-badge.svg\" alt=\"Open In Colab\"/></a>"
      ]
    },
    {
      "cell_type": "code",
      "metadata": {
        "colab": {
          "base_uri": "https://localhost:8080/"
        },
        "id": "pPIyDE7Z6GF_",
        "outputId": "18fa5cc2-a1ee-4ae4-e22b-ba739f767f47"
      },
      "source": [
        "%tensorflow_version 2.x\n",
        "import tensorflow as tf\n",
        "device_name = tf.test.gpu_device_name()\n",
        "if device_name != '/device:GPU:0':\n",
        "  raise SystemError('GPU device not found')\n",
        "print('Found GPU at: {}'.format(device_name))"
      ],
      "execution_count": null,
      "outputs": [
        {
          "output_type": "stream",
          "name": "stdout",
          "text": [
            "Found GPU at: /device:GPU:0\n"
          ]
        }
      ]
    },
    {
      "cell_type": "code",
      "metadata": {
        "colab": {
          "base_uri": "https://localhost:8080/"
        },
        "id": "WbYVNmEK6eez",
        "outputId": "5ed384a0-5a0c-4e12-e270-8312070fb08e"
      },
      "source": [
        "from google.colab import drive\n",
        "from google.colab import files\n",
        "\n",
        "drive.mount('/content/gdrive')"
      ],
      "execution_count": 1,
      "outputs": [
        {
          "output_type": "stream",
          "name": "stdout",
          "text": [
            "Mounted at /content/gdrive\n"
          ]
        }
      ]
    },
    {
      "cell_type": "code",
      "metadata": {
        "colab": {
          "base_uri": "https://localhost:8080/",
          "height": 205
        },
        "id": "TRl83GW56gOB",
        "outputId": "2e0c256c-be90-44e2-a8a0-e85ae5a66549"
      },
      "source": [
        "import pandas as pd\n",
        "import numpy as np\n",
        "import matplotlib.pyplot as plt\n",
        "import seaborn as sns\n",
        "\n",
        "\n",
        "df = pd.read_csv('/content/gdrive/MyDrive/datasets/daily-electricity-usage/irish_grid_daily_modified.csv', delimiter = ',')\n",
        "df.head()"
      ],
      "execution_count": 4,
      "outputs": [
        {
          "output_type": "execute_result",
          "data": {
            "text/html": [
              "<div>\n",
              "<style scoped>\n",
              "    .dataframe tbody tr th:only-of-type {\n",
              "        vertical-align: middle;\n",
              "    }\n",
              "\n",
              "    .dataframe tbody tr th {\n",
              "        vertical-align: top;\n",
              "    }\n",
              "\n",
              "    .dataframe thead th {\n",
              "        text-align: right;\n",
              "    }\n",
              "</style>\n",
              "<table border=\"1\" class=\"dataframe\">\n",
              "  <thead>\n",
              "    <tr style=\"text-align: right;\">\n",
              "      <th></th>\n",
              "      <th>Unnamed: 0</th>\n",
              "      <th>id</th>\n",
              "      <th>0</th>\n",
              "    </tr>\n",
              "  </thead>\n",
              "  <tbody>\n",
              "    <tr>\n",
              "      <th>0</th>\n",
              "      <td>0</td>\n",
              "      <td>1000</td>\n",
              "      <td>11.203</td>\n",
              "    </tr>\n",
              "    <tr>\n",
              "      <th>1</th>\n",
              "      <td>1</td>\n",
              "      <td>1000</td>\n",
              "      <td>8.403</td>\n",
              "    </tr>\n",
              "    <tr>\n",
              "      <th>2</th>\n",
              "      <td>2</td>\n",
              "      <td>1000</td>\n",
              "      <td>7.225</td>\n",
              "    </tr>\n",
              "    <tr>\n",
              "      <th>3</th>\n",
              "      <td>3</td>\n",
              "      <td>1000</td>\n",
              "      <td>11.338</td>\n",
              "    </tr>\n",
              "    <tr>\n",
              "      <th>4</th>\n",
              "      <td>4</td>\n",
              "      <td>1000</td>\n",
              "      <td>11.306</td>\n",
              "    </tr>\n",
              "  </tbody>\n",
              "</table>\n",
              "</div>"
            ],
            "text/plain": [
              "   Unnamed: 0    id       0\n",
              "0           0  1000  11.203\n",
              "1           1  1000   8.403\n",
              "2           2  1000   7.225\n",
              "3           3  1000  11.338\n",
              "4           4  1000  11.306"
            ]
          },
          "metadata": {},
          "execution_count": 4
        }
      ]
    },
    {
      "cell_type": "code",
      "metadata": {
        "colab": {
          "base_uri": "https://localhost:8080/"
        },
        "id": "dVZLR-LM41F5",
        "outputId": "e1d4ff22-0955-43d0-d6c1-1485bd04c88c"
      },
      "source": [
        "# aggregate to daily\n",
        "\n",
        "columns = [str(i) for i in range(0,24)]\n",
        "df['day'] = df[columns].sum(axis = 1)\n",
        "df.drop(columns = [str(i) for i in range(0,24)],inplace = True)\n",
        "print(df.head())\n",
        "df.to_csv('/content/gdrive/MyDrive/datasets/daily-electricity-usage/irish_daily.csv')"
      ],
      "execution_count": null,
      "outputs": [
        {
          "output_type": "stream",
          "name": "stdout",
          "text": [
            "     id        date     day\n",
            "0  1000  2009-07-15  11.203\n",
            "1  1000  2009-07-16   8.403\n",
            "2  1000  2009-07-17   7.225\n",
            "3  1000  2009-07-18  11.338\n",
            "4  1000  2009-07-19  11.306\n"
          ]
        }
      ]
    },
    {
      "cell_type": "code",
      "metadata": {
        "colab": {
          "base_uri": "https://localhost:8080/",
          "height": 301
        },
        "id": "6YccQVRd6w2M",
        "outputId": "b412c2ef-9480-4346-82e8-6148e5e4fbc7"
      },
      "source": [
        "user = df.loc[df.id == 2121].copy()\n",
        "user.drop(columns = ['Unnamed: 0','id'],inplace = True)\n",
        "# print(user.shape)\n",
        "# user = user.stack()\n",
        "print(user.shape)\n",
        "user.plot(kind='line')"
      ],
      "execution_count": 6,
      "outputs": [
        {
          "output_type": "stream",
          "name": "stdout",
          "text": [
            "(536, 1)\n"
          ]
        },
        {
          "output_type": "execute_result",
          "data": {
            "text/plain": [
              "<matplotlib.axes._subplots.AxesSubplot at 0x7fa6b21f8e50>"
            ]
          },
          "metadata": {},
          "execution_count": 6
        },
        {
          "output_type": "display_data",
          "data": {
            "image/png": "[encoded data removed]",
            "text/plain": [
              "<Figure size 432x288 with 1 Axes>"
            ]
          },
          "metadata": {
            "needs_background": "light"
          }
        }
      ]
    },
    {
      "cell_type": "code",
      "metadata": {
        "id": "uMftXyu7-Gcz"
      },
      "source": [
        "import math\n",
        "from keras.models import Sequential\n",
        "from keras.layers import Dense\n",
        "from keras.layers import LSTM\n",
        "from sklearn.preprocessing import MinMaxScaler\n",
        "from sklearn.metrics import mean_squared_error"
      ],
      "execution_count": 7,
      "outputs": []
    },
    {
      "cell_type": "code",
      "metadata": {
        "id": "BbVOhIUb-PN4"
      },
      "source": [
        "# fix random seed for reproducibility\n",
        "np.random.seed(7)"
      ],
      "execution_count": 8,
      "outputs": []
    },
    {
      "cell_type": "code",
      "metadata": {
        "id": "wH0ifB11-SBZ"
      },
      "source": [
        "dataset = user.values.astype('float32')"
      ],
      "execution_count": 9,
      "outputs": []
    },
    {
      "cell_type": "code",
      "metadata": {
        "id": "vUZ8e85d-n9R"
      },
      "source": [
        "# normalize the dataset\n",
        "scaler = MinMaxScaler(feature_range=(0, 1))\n",
        "dataset = dataset.reshape(-1, 1)\n",
        "dataset = scaler.fit_transform(dataset)"
      ],
      "execution_count": 10,
      "outputs": []
    },
    {
      "cell_type": "code",
      "metadata": {
        "colab": {
          "base_uri": "https://localhost:8080/"
        },
        "id": "rv6A5FlA-uX2",
        "outputId": "0248e390-3081-40fe-a01b-cd40e72cd8f2"
      },
      "source": [
        "train_size = int(len(dataset) * 0.8)\n",
        "test_size = len(dataset) - train_size\n",
        "train, test = dataset[0:train_size], dataset[train_size:len(dataset)]\n",
        "print(len(train), len(test))"
      ],
      "execution_count": 11,
      "outputs": [
        {
          "output_type": "stream",
          "name": "stdout",
          "text": [
            "428 108\n"
          ]
        }
      ]
    },
    {
      "cell_type": "code",
      "metadata": {
        "id": "MY7_xw_EAS8z"
      },
      "source": [
        "# convert an array of values into a dataset matrix\n",
        "def create_dataset(dataset, look_back=1):\n",
        "\tdataX, dataY = [], []\n",
        "\tfor i in range(len(dataset)-look_back-1):\n",
        "\t\ta = dataset[i:(i+look_back)]\n",
        "\t\tdataX.append(a)\n",
        "\t\tdataY.append(dataset[i + look_back])\n",
        "\treturn np.array(dataX), np.array(dataY)"
      ],
      "execution_count": 12,
      "outputs": []
    },
    {
      "cell_type": "code",
      "metadata": {
        "id": "WRFZ0b_ZAZkS"
      },
      "source": [
        "# reshape into X=t and Y=t+1\n",
        "look_back = 3\n",
        "trainX, trainY = create_dataset(train, look_back)\n",
        "testX, testY = create_dataset(test, look_back)"
      ],
      "execution_count": 13,
      "outputs": []
    },
    {
      "cell_type": "code",
      "metadata": {
        "id": "MoABMigDAqqA"
      },
      "source": [
        "# reshape input to be [samples, time steps, features]\n",
        "trainX = np.reshape(trainX, (trainX.shape[0], trainX.shape[1], 1))\n",
        "testX = np.reshape(testX, (testX.shape[0], testX.shape[1], 1))"
      ],
      "execution_count": 14,
      "outputs": []
    },
    {
      "cell_type": "code",
      "metadata": {
        "id": "dxWQl7OVA9qB"
      },
      "source": [
        "# create and fit the LSTM network\n",
        "batch_size = 1\n",
        "model = Sequential()\n",
        "# model.add(LSTM(7, batch_input_shape=(batch_size, look_back, 1), stateful=True, return_sequences=True))\n",
        "model.add(LSTM(7, batch_input_shape=(batch_size, look_back, 1), stateful=True))\n",
        "# model.add(LSTM(7,  input_shape =(look_back, 1)))\n",
        "model.add(Dense(1))\n",
        "model.compile(loss='mean_squared_error', optimizer='adam')"
      ],
      "execution_count": 18,
      "outputs": []
    },
    {
      "cell_type": "code",
      "metadata": {
        "colab": {
          "base_uri": "https://localhost:8080/"
        },
        "id": "WxKIst0gGJbT",
        "outputId": "68ae29b5-4953-44dc-eb3d-c54b4a03ede3"
      },
      "source": [
        "# model.fit(trainX, trainY, epochs=200, batch_size=batch_size, verbose=2, shuffle=False)\n",
        "for i in range(80):\n",
        "\tmodel.fit(trainX, trainY, epochs=1, batch_size=batch_size, verbose=2, shuffle=False)\n",
        "\t# model.reset_states()"
      ],
      "execution_count": 19,
      "outputs": [
        {
          "output_type": "stream",
          "name": "stdout",
          "text": [
            "424/424 - 3s - loss: 0.0399\n",
            "424/424 - 1s - loss: 0.0361\n",
            "424/424 - 1s - loss: 0.0354\n",
            "424/424 - 1s - loss: 0.0350\n",
            "424/424 - 1s - loss: 0.0347\n",
            "424/424 - 1s - loss: 0.0345\n",
            "424/424 - 1s - loss: 0.0343\n",
            "424/424 - 1s - loss: 0.0341\n",
            "424/424 - 1s - loss: 0.0340\n",
            "424/424 - 1s - loss: 0.0339\n",
            "424/424 - 1s - loss: 0.0338\n",
            "424/424 - 1s - loss: 0.0337\n",
            "424/424 - 1s - loss: 0.0337\n",
            "424/424 - 1s - loss: 0.0336\n",
            "424/424 - 1s - loss: 0.0336\n",
            "424/424 - 1s - loss: 0.0335\n",
            "424/424 - 1s - loss: 0.0335\n",
            "424/424 - 1s - loss: 0.0335\n",
            "424/424 - 1s - loss: 0.0335\n",
            "424/424 - 1s - loss: 0.0334\n",
            "424/424 - 1s - loss: 0.0334\n",
            "424/424 - 1s - loss: 0.0334\n",
            "424/424 - 1s - loss: 0.0334\n",
            "424/424 - 1s - loss: 0.0334\n",
            "424/424 - 1s - loss: 0.0334\n",
            "424/424 - 1s - loss: 0.0334\n",
            "424/424 - 1s - loss: 0.0333\n",
            "424/424 - 1s - loss: 0.0333\n",
            "424/424 - 1s - loss: 0.0333\n",
            "424/424 - 1s - loss: 0.0333\n",
            "424/424 - 1s - loss: 0.0333\n",
            "424/424 - 1s - loss: 0.0333\n",
            "424/424 - 1s - loss: 0.0333\n",
            "424/424 - 1s - loss: 0.0333\n",
            "424/424 - 1s - loss: 0.0333\n",
            "424/424 - 1s - loss: 0.0332\n",
            "424/424 - 1s - loss: 0.0332\n",
            "424/424 - 1s - loss: 0.0332\n",
            "424/424 - 1s - loss: 0.0332\n",
            "424/424 - 1s - loss: 0.0332\n",
            "424/424 - 1s - loss: 0.0332\n",
            "424/424 - 1s - loss: 0.0331\n",
            "424/424 - 1s - loss: 0.0331\n",
            "424/424 - 1s - loss: 0.0331\n",
            "424/424 - 1s - loss: 0.0331\n",
            "424/424 - 1s - loss: 0.0331\n",
            "424/424 - 1s - loss: 0.0330\n",
            "424/424 - 1s - loss: 0.0330\n",
            "424/424 - 1s - loss: 0.0330\n",
            "424/424 - 1s - loss: 0.0330\n",
            "424/424 - 1s - loss: 0.0329\n",
            "424/424 - 1s - loss: 0.0329\n",
            "424/424 - 1s - loss: 0.0329\n",
            "424/424 - 1s - loss: 0.0329\n",
            "424/424 - 1s - loss: 0.0328\n",
            "424/424 - 1s - loss: 0.0328\n",
            "424/424 - 1s - loss: 0.0328\n",
            "424/424 - 1s - loss: 0.0328\n",
            "424/424 - 1s - loss: 0.0327\n",
            "424/424 - 1s - loss: 0.0327\n",
            "424/424 - 1s - loss: 0.0327\n",
            "424/424 - 1s - loss: 0.0327\n",
            "424/424 - 1s - loss: 0.0326\n",
            "424/424 - 1s - loss: 0.0326\n",
            "424/424 - 1s - loss: 0.0326\n",
            "424/424 - 1s - loss: 0.0326\n",
            "424/424 - 1s - loss: 0.0325\n",
            "424/424 - 1s - loss: 0.0325\n",
            "424/424 - 1s - loss: 0.0325\n",
            "424/424 - 1s - loss: 0.0325\n",
            "424/424 - 1s - loss: 0.0324\n",
            "424/424 - 1s - loss: 0.0324\n",
            "424/424 - 1s - loss: 0.0324\n",
            "424/424 - 1s - loss: 0.0324\n",
            "424/424 - 1s - loss: 0.0324\n",
            "424/424 - 1s - loss: 0.0323\n",
            "424/424 - 1s - loss: 0.0323\n",
            "424/424 - 1s - loss: 0.0323\n",
            "424/424 - 1s - loss: 0.0323\n",
            "424/424 - 1s - loss: 0.0323\n"
          ]
        }
      ]
    },
    {
      "cell_type": "code",
      "metadata": {
        "colab": {
          "base_uri": "https://localhost:8080/",
          "height": 301
        },
        "id": "X4hwQjKmBLgT",
        "outputId": "0d468050-5715-49cb-dc8c-5d0c6cf0c268"
      },
      "source": [
        "# make predictions\n",
        "# trainPredict = model.predict(trainX)\n",
        "trainPredict = model.predict(trainX, batch_size=batch_size)\n",
        "model.reset_states()\n",
        "# testPredict = model.predict(testX)\n",
        "testPredict = model.predict(testX, batch_size=batch_size)\n",
        "# invert predictions\n",
        "# trainPredict = scaler.inverse_transform(trainPredict)\n",
        "# trainY = scaler.inverse_transform([trainY])\n",
        "# testPredict = scaler.inverse_transform(testPredict)\n",
        "# testY = scaler.inverse_transform([testY])\n",
        "# calculate root mean squared error\n",
        "trainScore = math.sqrt(mean_squared_error(trainY, trainPredict))\n",
        "print('Train Score: %.2f RMSE' % (trainScore))\n",
        "testScore = math.sqrt(mean_squared_error(testY, testPredict))\n",
        "print('Test Score: %.2f RMSE' % (testScore))\n",
        "# shift train predictions for plotting\n",
        "trainPredictPlot = np.empty_like(dataset)\n",
        "trainPredictPlot[:, :] = np.nan\n",
        "trainPredictPlot[look_back:len(trainPredict)+look_back, :] = trainPredict\n",
        "# shift test predictions for plotting\n",
        "testPredictPlot = np.empty_like(dataset)\n",
        "testPredictPlot[:, :] = np.nan\n",
        "testPredictPlot[len(trainPredict)+(look_back*2)+1:len(dataset)-1, :] = testPredict\n",
        "# plot baseline and predictions\n",
        "plt.plot(dataset)\n",
        "plt.plot(trainPredictPlot)\n",
        "plt.plot(testPredictPlot)\n",
        "plt.show()"
      ],
      "execution_count": 20,
      "outputs": [
        {
          "output_type": "stream",
          "name": "stdout",
          "text": [
            "Train Score: 0.19 RMSE\n",
            "Test Score: 0.19 RMSE\n"
          ]
        },
        {
          "output_type": "display_data",
          "data": {
            "image/png": "[encoded data removed]",
            "text/plain": [
              "<Figure size 432x288 with 1 Axes>"
            ]
          },
          "metadata": {
            "needs_background": "light"
          }
        }
      ]
    }
  ]
}