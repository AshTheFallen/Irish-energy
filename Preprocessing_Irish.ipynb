{
  "nbformat": 4,
  "nbformat_minor": 0,
  "metadata": {
    "colab": {
      "name": "Preprocessing-Irish",
      "provenance": [],
      "authorship_tag": "ABX9TyONFdxslrq1u7IF4P0jutIM",
      "include_colab_link": true
    },
    "kernelspec": {
      "name": "python3",
      "display_name": "Python 3"
    },
    "language_info": {
      "name": "python"
    }
  },
  "cells": [
    {
      "cell_type": "markdown",
      "metadata": {
        "id": "view-in-github",
        "colab_type": "text"
      },
      "source": [
        "<a href=\"https://colab.research.google.com/github/AshTheFallen/Irish-energy/blob/main/Preprocessing_Irish.ipynb\" target=\"_parent\"><img src=\"https://colab.research.google.com/assets/colab-badge.svg\" alt=\"Open In Colab\"/></a>"
      ]
    },
    {
      "cell_type": "code",
      "metadata": {
        "colab": {
          "base_uri": "https://localhost:8080/"
        },
        "id": "5_R7BATYOK7A",
        "outputId": "6d18ca8e-5c5c-4ecf-c209-6d4442c29f22"
      },
      "source": [
        "from google.colab import drive\n",
        "from google.colab import files\n",
        "\n",
        "drive.mount('/content/gdrive')"
      ],
      "execution_count": 1,
      "outputs": [
        {
          "output_type": "stream",
          "name": "stdout",
          "text": [
            "Mounted at /content/gdrive\n"
          ]
        }
      ]
    },
    {
      "cell_type": "code",
      "metadata": {
        "colab": {
          "base_uri": "https://localhost:8080/",
          "height": 205
        },
        "id": "KYGtiwQ4OlmI",
        "outputId": "45b23c78-5a4f-41b7-cdbe-02c20e6e282b"
      },
      "source": [
        "import pandas as pd\n",
        "import numpy as np\n",
        "import matplotlib.pyplot as plt\n",
        "import seaborn as sns\n",
        "\n",
        "\n",
        "df = pd.read_csv('/content/gdrive/MyDrive/datasets/daily-electricity-usage/irish_grid.csv', delimiter = ',')\n",
        "df.drop(columns=['date'],inplace = True)\n",
        "df.head()"
      ],
      "execution_count": 2,
      "outputs": [
        {
          "output_type": "execute_result",
          "data": {
            "text/html": [
              "<div>\n",
              "<style scoped>\n",
              "    .dataframe tbody tr th:only-of-type {\n",
              "        vertical-align: middle;\n",
              "    }\n",
              "\n",
              "    .dataframe tbody tr th {\n",
              "        vertical-align: top;\n",
              "    }\n",
              "\n",
              "    .dataframe thead th {\n",
              "        text-align: right;\n",
              "    }\n",
              "</style>\n",
              "<table border=\"1\" class=\"dataframe\">\n",
              "  <thead>\n",
              "    <tr style=\"text-align: right;\">\n",
              "      <th></th>\n",
              "      <th>id</th>\n",
              "      <th>0</th>\n",
              "      <th>1</th>\n",
              "      <th>2</th>\n",
              "      <th>3</th>\n",
              "      <th>4</th>\n",
              "      <th>5</th>\n",
              "      <th>6</th>\n",
              "      <th>7</th>\n",
              "      <th>8</th>\n",
              "      <th>9</th>\n",
              "      <th>10</th>\n",
              "      <th>11</th>\n",
              "      <th>12</th>\n",
              "      <th>13</th>\n",
              "      <th>14</th>\n",
              "      <th>15</th>\n",
              "      <th>16</th>\n",
              "      <th>17</th>\n",
              "      <th>18</th>\n",
              "      <th>19</th>\n",
              "      <th>20</th>\n",
              "      <th>21</th>\n",
              "      <th>22</th>\n",
              "      <th>23</th>\n",
              "    </tr>\n",
              "  </thead>\n",
              "  <tbody>\n",
              "    <tr>\n",
              "      <th>0</th>\n",
              "      <td>1000</td>\n",
              "      <td>0.167</td>\n",
              "      <td>0.050</td>\n",
              "      <td>0.166</td>\n",
              "      <td>0.066</td>\n",
              "      <td>0.072</td>\n",
              "      <td>0.153</td>\n",
              "      <td>0.048</td>\n",
              "      <td>0.162</td>\n",
              "      <td>0.138</td>\n",
              "      <td>0.206</td>\n",
              "      <td>0.059</td>\n",
              "      <td>0.120</td>\n",
              "      <td>0.141</td>\n",
              "      <td>0.058</td>\n",
              "      <td>0.198</td>\n",
              "      <td>0.061</td>\n",
              "      <td>0.110</td>\n",
              "      <td>0.127</td>\n",
              "      <td>0.052</td>\n",
              "      <td>5.050</td>\n",
              "      <td>1.390</td>\n",
              "      <td>0.984</td>\n",
              "      <td>1.262</td>\n",
              "      <td>0.363</td>\n",
              "    </tr>\n",
              "    <tr>\n",
              "      <th>1</th>\n",
              "      <td>1000</td>\n",
              "      <td>0.087</td>\n",
              "      <td>0.106</td>\n",
              "      <td>0.130</td>\n",
              "      <td>0.050</td>\n",
              "      <td>0.163</td>\n",
              "      <td>0.050</td>\n",
              "      <td>0.187</td>\n",
              "      <td>0.935</td>\n",
              "      <td>0.079</td>\n",
              "      <td>0.149</td>\n",
              "      <td>0.058</td>\n",
              "      <td>0.174</td>\n",
              "      <td>0.059</td>\n",
              "      <td>0.135</td>\n",
              "      <td>0.100</td>\n",
              "      <td>0.212</td>\n",
              "      <td>0.130</td>\n",
              "      <td>0.069</td>\n",
              "      <td>3.590</td>\n",
              "      <td>0.109</td>\n",
              "      <td>0.185</td>\n",
              "      <td>0.795</td>\n",
              "      <td>0.532</td>\n",
              "      <td>0.319</td>\n",
              "    </tr>\n",
              "    <tr>\n",
              "      <th>2</th>\n",
              "      <td>1000</td>\n",
              "      <td>0.218</td>\n",
              "      <td>0.048</td>\n",
              "      <td>0.183</td>\n",
              "      <td>0.090</td>\n",
              "      <td>0.126</td>\n",
              "      <td>0.185</td>\n",
              "      <td>0.211</td>\n",
              "      <td>0.905</td>\n",
              "      <td>0.516</td>\n",
              "      <td>0.262</td>\n",
              "      <td>0.123</td>\n",
              "      <td>0.185</td>\n",
              "      <td>0.064</td>\n",
              "      <td>0.363</td>\n",
              "      <td>0.291</td>\n",
              "      <td>0.659</td>\n",
              "      <td>0.574</td>\n",
              "      <td>0.421</td>\n",
              "      <td>0.500</td>\n",
              "      <td>0.439</td>\n",
              "      <td>0.207</td>\n",
              "      <td>0.081</td>\n",
              "      <td>0.067</td>\n",
              "      <td>0.507</td>\n",
              "    </tr>\n",
              "    <tr>\n",
              "      <th>3</th>\n",
              "      <td>1000</td>\n",
              "      <td>0.323</td>\n",
              "      <td>0.050</td>\n",
              "      <td>0.133</td>\n",
              "      <td>0.060</td>\n",
              "      <td>0.145</td>\n",
              "      <td>0.049</td>\n",
              "      <td>0.154</td>\n",
              "      <td>0.443</td>\n",
              "      <td>0.532</td>\n",
              "      <td>0.058</td>\n",
              "      <td>0.140</td>\n",
              "      <td>0.058</td>\n",
              "      <td>0.167</td>\n",
              "      <td>0.058</td>\n",
              "      <td>0.162</td>\n",
              "      <td>0.059</td>\n",
              "      <td>0.162</td>\n",
              "      <td>0.058</td>\n",
              "      <td>3.096</td>\n",
              "      <td>3.265</td>\n",
              "      <td>1.415</td>\n",
              "      <td>0.224</td>\n",
              "      <td>0.276</td>\n",
              "      <td>0.251</td>\n",
              "    </tr>\n",
              "    <tr>\n",
              "      <th>4</th>\n",
              "      <td>1000</td>\n",
              "      <td>0.227</td>\n",
              "      <td>0.140</td>\n",
              "      <td>0.057</td>\n",
              "      <td>0.151</td>\n",
              "      <td>0.050</td>\n",
              "      <td>0.133</td>\n",
              "      <td>0.182</td>\n",
              "      <td>0.122</td>\n",
              "      <td>0.086</td>\n",
              "      <td>0.254</td>\n",
              "      <td>1.561</td>\n",
              "      <td>3.031</td>\n",
              "      <td>0.612</td>\n",
              "      <td>0.659</td>\n",
              "      <td>0.710</td>\n",
              "      <td>2.423</td>\n",
              "      <td>0.099</td>\n",
              "      <td>0.110</td>\n",
              "      <td>0.066</td>\n",
              "      <td>0.148</td>\n",
              "      <td>0.098</td>\n",
              "      <td>0.216</td>\n",
              "      <td>0.062</td>\n",
              "      <td>0.109</td>\n",
              "    </tr>\n",
              "  </tbody>\n",
              "</table>\n",
              "</div>"
            ],
            "text/plain": [
              "     id      0      1      2      3  ...     19     20     21     22     23\n",
              "0  1000  0.167  0.050  0.166  0.066  ...  5.050  1.390  0.984  1.262  0.363\n",
              "1  1000  0.087  0.106  0.130  0.050  ...  0.109  0.185  0.795  0.532  0.319\n",
              "2  1000  0.218  0.048  0.183  0.090  ...  0.439  0.207  0.081  0.067  0.507\n",
              "3  1000  0.323  0.050  0.133  0.060  ...  3.265  1.415  0.224  0.276  0.251\n",
              "4  1000  0.227  0.140  0.057  0.151  ...  0.148  0.098  0.216  0.062  0.109\n",
              "\n",
              "[5 rows x 25 columns]"
            ]
          },
          "metadata": {},
          "execution_count": 2
        }
      ]
    },
    {
      "cell_type": "code",
      "metadata": {
        "colab": {
          "base_uri": "https://localhost:8080/",
          "height": 32
        },
        "id": "ZbWPz1Y5O02c",
        "outputId": "0e3482f0-99c2-430c-b0c0-a295b55e24e0"
      },
      "source": [
        "# calculating mean and std for each user and removing data higher or lower than it\n",
        "new_values = []\n",
        "def noise_reduction(user):\n",
        "  coef = 1  # determining the effectiveness of STD in calculating outliers\n",
        "  shape = user.shape\n",
        "  values = user.to_numpy().flatten()\n",
        "  mean = np.mean(values)\n",
        "  std = np.std(values)\n",
        "  upper_band = mean + (coef * std)\n",
        "  lower_band = mean - (coef * std)\n",
        "  indexes = np.where(((values<lower_band) | (values>upper_band))==True)\n",
        "  values[indexes] = np.nan\n",
        "  values = np.reshape(values,shape)\n",
        "  values = pd.DataFrame(values)\n",
        "  values = values.ffill(axis = 1).bfill(axis = 1)\n",
        "  new_values.append(values)\n",
        "\n",
        "# noise_reduction(df.loc[df['id'] == 1000])\n",
        "df.groupby(['id']).apply(lambda x: noise_reduction(x.iloc[:,1:]))"
      ],
      "execution_count": 22,
      "outputs": [
        {
          "output_type": "execute_result",
          "data": {
            "text/html": [
              "<div>\n",
              "<style scoped>\n",
              "    .dataframe tbody tr th:only-of-type {\n",
              "        vertical-align: middle;\n",
              "    }\n",
              "\n",
              "    .dataframe tbody tr th {\n",
              "        vertical-align: top;\n",
              "    }\n",
              "\n",
              "    .dataframe thead th {\n",
              "        text-align: right;\n",
              "    }\n",
              "</style>\n",
              "<table border=\"1\" class=\"dataframe\">\n",
              "  <thead>\n",
              "    <tr style=\"text-align: right;\">\n",
              "      <th></th>\n",
              "    </tr>\n",
              "  </thead>\n",
              "  <tbody>\n",
              "  </tbody>\n",
              "</table>\n",
              "</div>"
            ],
            "text/plain": [
              "Empty DataFrame\n",
              "Columns: []\n",
              "Index: []"
            ]
          },
          "metadata": {},
          "execution_count": 22
        }
      ]
    },
    {
      "cell_type": "code",
      "metadata": {
        "id": "OrMZVD2xkTTM"
      },
      "source": [
        "# concating newly formed dataframes\n",
        "final_df = pd.concat(new_values, ignore_index=True)\n",
        "final_df['id'] = df['id']\n",
        "final_df.columns = ['0','1','2','3','4','5','6','7','8','9','10','11','12','13','14','15','16','17','18','19','20','21','22','23','id']\n",
        "final_df= final_df[['id','0','1','2','3','4','5','6','7','8','9','10','11','12','13','14','15','16','17','18','19','20','21','22','23']]\n",
        "final_df.to_csv('/content/gdrive/MyDrive/datasets/daily-electricity-usage/irish_grid_hourly_modified.csv')"
      ],
      "execution_count": 9,
      "outputs": []
    },
    {
      "cell_type": "code",
      "metadata": {
        "colab": {
          "base_uri": "https://localhost:8080/"
        },
        "id": "rhRvjsdIElky",
        "outputId": "9fe50d9b-9bd0-47a4-c83e-77a09641ff44"
      },
      "source": [
        "columns = [str(i) for i in range(0,24)]\n",
        "final_df['day'] = df[columns].sum(axis = 1)\n",
        "final_df.drop(columns = [str(i) for i in range(0,24)],inplace = True)\n",
        "print(final_df.head())"
      ],
      "execution_count": 10,
      "outputs": [
        {
          "output_type": "stream",
          "name": "stdout",
          "text": [
            "     id     day\n",
            "0  1000  11.203\n",
            "1  1000   8.403\n",
            "2  1000   7.225\n",
            "3  1000  11.338\n",
            "4  1000  11.306\n"
          ]
        }
      ]
    },
    {
      "cell_type": "code",
      "metadata": {
        "colab": {
          "base_uri": "https://localhost:8080/",
          "height": 301
        },
        "id": "Qj5IXeeVFFw0",
        "outputId": "cd6c2d95-cb75-4ce1-8e64-f7f3ce2f2257"
      },
      "source": [
        "user = final_df.loc[final_df.id == 2121].copy()\n",
        "user.drop(columns = ['id'],inplace = True)\n",
        "# print(user.shape)\n",
        "# user = user.stack()\n",
        "print(user.shape)\n",
        "user.plot(kind='line')"
      ],
      "execution_count": 14,
      "outputs": [
        {
          "output_type": "stream",
          "name": "stdout",
          "text": [
            "(536, 1)\n"
          ]
        },
        {
          "output_type": "execute_result",
          "data": {
            "text/plain": [
              "<matplotlib.axes._subplots.AxesSubplot at 0x7fad7e183110>"
            ]
          },
          "metadata": {},
          "execution_count": 14
        },
        {
          "output_type": "display_data",
          "data": {
            "image/png": "[encoded data removed]",
            "text/plain": [
              "<Figure size 432x288 with 1 Axes>"
            ]
          },
          "metadata": {
            "needs_background": "light"
          }
        }
      ]
    },
    {
      "cell_type": "code",
      "metadata": {
        "colab": {
          "base_uri": "https://localhost:8080/",
          "height": 32
        },
        "id": "fjTyvsV0FuHV",
        "outputId": "8f7afe77-b4e8-444d-bb30-0a7147730ff6"
      },
      "source": [
        "# calculating mean and std for each user and removing data higher or lower than it - DAILY\n",
        "daily_df = final_df\n",
        "new_values = []\n",
        "def noise_reduction(user):\n",
        "  coef = 1  # determining the effectiveness of STD in calculating outliers\n",
        "  shape = user.shape\n",
        "  values = user.to_numpy().flatten()\n",
        "  mean = np.mean(values)\n",
        "  std = np.std(values)\n",
        "  upper_band = mean + (coef * std)\n",
        "  lower_band = mean - (coef * std)\n",
        "  indexes = np.where(((values<lower_band) | (values>upper_band))==True)\n",
        "  values[indexes] = np.nan\n",
        "  values = np.reshape(values,shape)\n",
        "  values = pd.DataFrame(values)\n",
        "  values = values.ffill(axis = 0).bfill(axis = 0)\n",
        "  new_values.append(values)\n",
        "\n",
        "# noise_reduction(df.loc[df['id'] == 1000])\n",
        "daily_df.groupby(['id']).apply(lambda x: noise_reduction(x.iloc[:,1]))"
      ],
      "execution_count": 15,
      "outputs": [
        {
          "output_type": "execute_result",
          "data": {
            "text/html": [
              "<div>\n",
              "<style scoped>\n",
              "    .dataframe tbody tr th:only-of-type {\n",
              "        vertical-align: middle;\n",
              "    }\n",
              "\n",
              "    .dataframe tbody tr th {\n",
              "        vertical-align: top;\n",
              "    }\n",
              "\n",
              "    .dataframe thead th {\n",
              "        text-align: right;\n",
              "    }\n",
              "</style>\n",
              "<table border=\"1\" class=\"dataframe\">\n",
              "  <thead>\n",
              "    <tr style=\"text-align: right;\">\n",
              "      <th></th>\n",
              "    </tr>\n",
              "  </thead>\n",
              "  <tbody>\n",
              "  </tbody>\n",
              "</table>\n",
              "</div>"
            ],
            "text/plain": [
              "Empty DataFrame\n",
              "Columns: []\n",
              "Index: []"
            ]
          },
          "metadata": {},
          "execution_count": 15
        }
      ]
    },
    {
      "cell_type": "code",
      "metadata": {
        "colab": {
          "base_uri": "https://localhost:8080/"
        },
        "id": "vydfrSnaF-Mu",
        "outputId": "7bba18e7-128b-4da7-e53e-f8a62f526c96"
      },
      "source": [
        "# concating newly formed dataframes\n",
        "final_df = pd.concat(new_values, ignore_index=True)\n",
        "final_df['id'] = daily_df['id']\n",
        "print(final_df)\n",
        "final_df.columns = ['0','id']\n",
        "final_df= final_df[['id','0']]\n",
        "final_df.to_csv('/content/gdrive/MyDrive/datasets/daily-electricity-usage/irish_grid_daily_modified.csv')"
      ],
      "execution_count": 21,
      "outputs": [
        {
          "output_type": "stream",
          "name": "stdout",
          "text": [
            "              0    id\n",
            "0        11.203  1000\n",
            "1         8.403  1000\n",
            "2         7.225  1000\n",
            "3        11.338  1000\n",
            "4        11.306  1000\n",
            "...         ...   ...\n",
            "3301512  32.068  7444\n",
            "3301513  36.849  7444\n",
            "3301514  37.185  7444\n",
            "3301515  36.179  7444\n",
            "3301516  48.373  7444\n",
            "\n",
            "[3301517 rows x 2 columns]\n"
          ]
        }
      ]
    },
    {
      "cell_type": "code",
      "metadata": {
        "colab": {
          "base_uri": "https://localhost:8080/",
          "height": 301
        },
        "id": "Xu2oig6YGaFf",
        "outputId": "e701bee8-0f4d-4efa-b5ea-113e8bf16cc8"
      },
      "source": [
        "user = final_df.loc[final_df.id == 2121].copy()\n",
        "user.drop(columns = ['id'],inplace = True)\n",
        "# print(user.shape)\n",
        "# user = user.stack()\n",
        "print(user.shape)\n",
        "user.plot(kind='line')"
      ],
      "execution_count": 20,
      "outputs": [
        {
          "output_type": "stream",
          "name": "stdout",
          "text": [
            "(536, 1)\n"
          ]
        },
        {
          "output_type": "execute_result",
          "data": {
            "text/plain": [
              "<matplotlib.axes._subplots.AxesSubplot at 0x7fad7e6da550>"
            ]
          },
          "metadata": {},
          "execution_count": 20
        },
        {
          "output_type": "display_data",
          "data": {
            "image/png": "[encoded data removed]",
            "text/plain": [
              "<Figure size 432x288 with 1 Axes>"
            ]
          },
          "metadata": {
            "needs_background": "light"
          }
        }
      ]
    }
  ]
}